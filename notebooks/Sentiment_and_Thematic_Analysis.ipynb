{
 "cells": [
  {
   "cell_type": "markdown",
   "id": "fc275478",
   "metadata": {},
   "source": [
    "# Sentiment and Thematic Analysis\n",
    "This notebook performs sentiment scoring on user reviews using a pretrained model (DistilBERT) to uncover satisfaction signals across banks. Themes will be extracted in the next section."
   ]
  },
  {
   "cell_type": "markdown",
   "id": "09efee47",
   "metadata": {},
   "source": [
    "## Setup and Dataset Overview\n",
    "Load required packages and preview the cleaned reviews dataset.\n",
    "Ensure the presence of key columns like `review_clean`, `bank`, and `rating`."
   ]
  },
  {
   "cell_type": "code",
   "execution_count": 1,
   "id": "4f3775c7",
   "metadata": {},
   "outputs": [
    {
     "name": "stderr",
     "output_type": "stream",
     "text": [
      "c:\\Users\\adoni\\Desktop\\KAIM COURSE\\WEEK-2\\CustomerExperienceAnalytics\\.venv\\lib\\site-packages\\tqdm\\auto.py:21: TqdmWarning: IProgress not found. Please update jupyter and ipywidgets. See https://ipywidgets.readthedocs.io/en/stable/user_install.html\n",
      "  from .autonotebook import tqdm as notebook_tqdm\n"
     ]
    },
    {
     "data": {
      "text/html": [
       "<div>\n",
       "<style scoped>\n",
       "    .dataframe tbody tr th:only-of-type {\n",
       "        vertical-align: middle;\n",
       "    }\n",
       "\n",
       "    .dataframe tbody tr th {\n",
       "        vertical-align: top;\n",
       "    }\n",
       "\n",
       "    .dataframe thead th {\n",
       "        text-align: right;\n",
       "    }\n",
       "</style>\n",
       "<table border=\"1\" class=\"dataframe\">\n",
       "  <thead>\n",
       "    <tr style=\"text-align: right;\">\n",
       "      <th></th>\n",
       "      <th>review_id</th>\n",
       "      <th>review</th>\n",
       "      <th>rating</th>\n",
       "      <th>date</th>\n",
       "      <th>bank</th>\n",
       "      <th>source</th>\n",
       "      <th>review_clean</th>\n",
       "    </tr>\n",
       "  </thead>\n",
       "  <tbody>\n",
       "    <tr>\n",
       "      <th>0</th>\n",
       "      <td>24b9381c-3cd8-431a-b3c9-bd156427585a</td>\n",
       "      <td>wow</td>\n",
       "      <td>5</td>\n",
       "      <td>2025-07-25</td>\n",
       "      <td>Commercial Bank of Ethiopia (CBE)</td>\n",
       "      <td>Google Play</td>\n",
       "      <td>wow</td>\n",
       "    </tr>\n",
       "    <tr>\n",
       "      <th>1</th>\n",
       "      <td>6a7da8ad-486f-4132-8eb9-aee1e55f7322</td>\n",
       "      <td>excellent</td>\n",
       "      <td>5</td>\n",
       "      <td>2025-07-25</td>\n",
       "      <td>Commercial Bank of Ethiopia (CBE)</td>\n",
       "      <td>Google Play</td>\n",
       "      <td>excellent</td>\n",
       "    </tr>\n",
       "    <tr>\n",
       "      <th>2</th>\n",
       "      <td>d12f5fc4-9d9a-4f3d-b3e0-074f7b379f14</td>\n",
       "      <td>great</td>\n",
       "      <td>5</td>\n",
       "      <td>2025-07-24</td>\n",
       "      <td>Commercial Bank of Ethiopia (CBE)</td>\n",
       "      <td>Google Play</td>\n",
       "      <td>great</td>\n",
       "    </tr>\n",
       "    <tr>\n",
       "      <th>3</th>\n",
       "      <td>fba3dc77-c9b1-4cfc-8afe-317b302b007c</td>\n",
       "      <td>Great</td>\n",
       "      <td>5</td>\n",
       "      <td>2025-07-24</td>\n",
       "      <td>Commercial Bank of Ethiopia (CBE)</td>\n",
       "      <td>Google Play</td>\n",
       "      <td>Great</td>\n",
       "    </tr>\n",
       "    <tr>\n",
       "      <th>4</th>\n",
       "      <td>bd502a94-e136-4cee-bb6b-e0c51cc5c245</td>\n",
       "      <td>there is many thing u have to fix.</td>\n",
       "      <td>1</td>\n",
       "      <td>2025-07-24</td>\n",
       "      <td>Commercial Bank of Ethiopia (CBE)</td>\n",
       "      <td>Google Play</td>\n",
       "      <td>there is many thing u have to fix.</td>\n",
       "    </tr>\n",
       "  </tbody>\n",
       "</table>\n",
       "</div>"
      ],
      "text/plain": [
       "                              review_id                              review  \\\n",
       "0  24b9381c-3cd8-431a-b3c9-bd156427585a                                 wow   \n",
       "1  6a7da8ad-486f-4132-8eb9-aee1e55f7322                           excellent   \n",
       "2  d12f5fc4-9d9a-4f3d-b3e0-074f7b379f14                               great   \n",
       "3  fba3dc77-c9b1-4cfc-8afe-317b302b007c                               Great   \n",
       "4  bd502a94-e136-4cee-bb6b-e0c51cc5c245  there is many thing u have to fix.   \n",
       "\n",
       "   rating        date                               bank       source  \\\n",
       "0       5  2025-07-25  Commercial Bank of Ethiopia (CBE)  Google Play   \n",
       "1       5  2025-07-25  Commercial Bank of Ethiopia (CBE)  Google Play   \n",
       "2       5  2025-07-24  Commercial Bank of Ethiopia (CBE)  Google Play   \n",
       "3       5  2025-07-24  Commercial Bank of Ethiopia (CBE)  Google Play   \n",
       "4       1  2025-07-24  Commercial Bank of Ethiopia (CBE)  Google Play   \n",
       "\n",
       "                         review_clean  \n",
       "0                                 wow  \n",
       "1                           excellent  \n",
       "2                               great  \n",
       "3                               Great  \n",
       "4  there is many thing u have to fix.  "
      ]
     },
     "execution_count": 1,
     "metadata": {},
     "output_type": "execute_result"
    }
   ],
   "source": [
    "import pandas as pd\n",
    "import numpy as np\n",
    "from transformers import pipeline\n",
    "import os \n",
    "import sys\n",
    "from tqdm import tqdm\n",
    "tqdm.pandas()\n",
    "\n",
    "sys.path.append(os.path.abspath(\"../\"))\n",
    "from src.utils.utils import load_data\n",
    "from src.utils.keyword_text_processor import preprocess_for_keywords\n",
    "from src.models.keyword_and_topicmodeling import extract_topic_keywords, map_topics_to_labels, save_topics_with_labels\n",
    "from src.models.sentiments import  load_sentiment_model\n",
    "\n",
    "# Load cleaned review data\n",
    "raw_path = \"../data/processed/cleaned_reviews.csv\"\n",
    "df = load_data(raw_path)\n",
    "\n",
    "# Quick preview\n",
    "df.head()"
   ]
  },
  {
   "cell_type": "markdown",
   "id": "b35885ae",
   "metadata": {},
   "source": [
    "## Step 2: Sentiment Model Initialization\n",
    "We use HuggingFace's Transformers to load `distilbert-base-uncased-finetuned-sst-2-english`, which classifies review texts into Positive, Negative, or Neutral categories."
   ]
  },
  {
   "cell_type": "code",
   "execution_count": 2,
   "id": "f86caae4",
   "metadata": {},
   "outputs": [
    {
     "name": "stderr",
     "output_type": "stream",
     "text": [
      "Device set to use cpu\n"
     ]
    }
   ],
   "source": [
    "# Load sentiment model\n",
    "sentiment_model = load_sentiment_model()\n"
   ]
  },
  {
   "cell_type": "markdown",
   "id": "47188ead",
   "metadata": {},
   "source": [
    "## Sentiment Inference on Reviews\n",
    "Apply the model to each review using batch processing and store the results as new columns: `sentiment_label` and `sentiment_score`."
   ]
  },
  {
   "cell_type": "code",
   "execution_count": 3,
   "id": "c84ee154",
   "metadata": {},
   "outputs": [
    {
     "name": "stderr",
     "output_type": "stream",
     "text": [
      "100%|██████████| 1492/1492 [01:11<00:00, 21.00it/s]\n"
     ]
    },
    {
     "data": {
      "text/html": [
       "<div>\n",
       "<style scoped>\n",
       "    .dataframe tbody tr th:only-of-type {\n",
       "        vertical-align: middle;\n",
       "    }\n",
       "\n",
       "    .dataframe tbody tr th {\n",
       "        vertical-align: top;\n",
       "    }\n",
       "\n",
       "    .dataframe thead th {\n",
       "        text-align: right;\n",
       "    }\n",
       "</style>\n",
       "<table border=\"1\" class=\"dataframe\">\n",
       "  <thead>\n",
       "    <tr style=\"text-align: right;\">\n",
       "      <th></th>\n",
       "      <th>review_id</th>\n",
       "      <th>review</th>\n",
       "      <th>rating</th>\n",
       "      <th>date</th>\n",
       "      <th>bank</th>\n",
       "      <th>source</th>\n",
       "      <th>review_clean</th>\n",
       "      <th>sentiment_label</th>\n",
       "      <th>sentiment_score</th>\n",
       "    </tr>\n",
       "  </thead>\n",
       "  <tbody>\n",
       "    <tr>\n",
       "      <th>0</th>\n",
       "      <td>24b9381c-3cd8-431a-b3c9-bd156427585a</td>\n",
       "      <td>wow</td>\n",
       "      <td>5</td>\n",
       "      <td>2025-07-25</td>\n",
       "      <td>Commercial Bank of Ethiopia (CBE)</td>\n",
       "      <td>Google Play</td>\n",
       "      <td>wow</td>\n",
       "      <td>POSITIVE</td>\n",
       "      <td>0.999592</td>\n",
       "    </tr>\n",
       "    <tr>\n",
       "      <th>1</th>\n",
       "      <td>6a7da8ad-486f-4132-8eb9-aee1e55f7322</td>\n",
       "      <td>excellent</td>\n",
       "      <td>5</td>\n",
       "      <td>2025-07-25</td>\n",
       "      <td>Commercial Bank of Ethiopia (CBE)</td>\n",
       "      <td>Google Play</td>\n",
       "      <td>excellent</td>\n",
       "      <td>POSITIVE</td>\n",
       "      <td>0.999843</td>\n",
       "    </tr>\n",
       "    <tr>\n",
       "      <th>2</th>\n",
       "      <td>d12f5fc4-9d9a-4f3d-b3e0-074f7b379f14</td>\n",
       "      <td>great</td>\n",
       "      <td>5</td>\n",
       "      <td>2025-07-24</td>\n",
       "      <td>Commercial Bank of Ethiopia (CBE)</td>\n",
       "      <td>Google Play</td>\n",
       "      <td>great</td>\n",
       "      <td>POSITIVE</td>\n",
       "      <td>0.999863</td>\n",
       "    </tr>\n",
       "    <tr>\n",
       "      <th>3</th>\n",
       "      <td>fba3dc77-c9b1-4cfc-8afe-317b302b007c</td>\n",
       "      <td>Great</td>\n",
       "      <td>5</td>\n",
       "      <td>2025-07-24</td>\n",
       "      <td>Commercial Bank of Ethiopia (CBE)</td>\n",
       "      <td>Google Play</td>\n",
       "      <td>Great</td>\n",
       "      <td>POSITIVE</td>\n",
       "      <td>0.999863</td>\n",
       "    </tr>\n",
       "    <tr>\n",
       "      <th>4</th>\n",
       "      <td>bd502a94-e136-4cee-bb6b-e0c51cc5c245</td>\n",
       "      <td>there is many thing u have to fix.</td>\n",
       "      <td>1</td>\n",
       "      <td>2025-07-24</td>\n",
       "      <td>Commercial Bank of Ethiopia (CBE)</td>\n",
       "      <td>Google Play</td>\n",
       "      <td>there is many thing u have to fix.</td>\n",
       "      <td>NEGATIVE</td>\n",
       "      <td>0.987213</td>\n",
       "    </tr>\n",
       "  </tbody>\n",
       "</table>\n",
       "</div>"
      ],
      "text/plain": [
       "                              review_id                              review  \\\n",
       "0  24b9381c-3cd8-431a-b3c9-bd156427585a                                 wow   \n",
       "1  6a7da8ad-486f-4132-8eb9-aee1e55f7322                           excellent   \n",
       "2  d12f5fc4-9d9a-4f3d-b3e0-074f7b379f14                               great   \n",
       "3  fba3dc77-c9b1-4cfc-8afe-317b302b007c                               Great   \n",
       "4  bd502a94-e136-4cee-bb6b-e0c51cc5c245  there is many thing u have to fix.   \n",
       "\n",
       "   rating        date                               bank       source  \\\n",
       "0       5  2025-07-25  Commercial Bank of Ethiopia (CBE)  Google Play   \n",
       "1       5  2025-07-25  Commercial Bank of Ethiopia (CBE)  Google Play   \n",
       "2       5  2025-07-24  Commercial Bank of Ethiopia (CBE)  Google Play   \n",
       "3       5  2025-07-24  Commercial Bank of Ethiopia (CBE)  Google Play   \n",
       "4       1  2025-07-24  Commercial Bank of Ethiopia (CBE)  Google Play   \n",
       "\n",
       "                         review_clean sentiment_label  sentiment_score  \n",
       "0                                 wow        POSITIVE         0.999592  \n",
       "1                           excellent        POSITIVE         0.999843  \n",
       "2                               great        POSITIVE         0.999863  \n",
       "3                               Great        POSITIVE         0.999863  \n",
       "4  there is many thing u have to fix.        NEGATIVE         0.987213  "
      ]
     },
     "execution_count": 3,
     "metadata": {},
     "output_type": "execute_result"
    }
   ],
   "source": [
    "def get_sentiment_outputs(text):\n",
    "    result = sentiment_model(text)[0]\n",
    "    return pd.Series([result['label'], result['score']], index=['sentiment_label', 'sentiment_score'])\n",
    "\n",
    "df[['sentiment_label', 'sentiment_score']] = df['review_clean'].progress_apply(get_sentiment_outputs)\n",
    "df.head()"
   ]
  },
  {
   "cell_type": "code",
   "execution_count": 4,
   "id": "047176bf",
   "metadata": {},
   "outputs": [
    {
     "data": {
      "text/html": [
       "<div>\n",
       "<style scoped>\n",
       "    .dataframe tbody tr th:only-of-type {\n",
       "        vertical-align: middle;\n",
       "    }\n",
       "\n",
       "    .dataframe tbody tr th {\n",
       "        vertical-align: top;\n",
       "    }\n",
       "\n",
       "    .dataframe thead th {\n",
       "        text-align: right;\n",
       "    }\n",
       "</style>\n",
       "<table border=\"1\" class=\"dataframe\">\n",
       "  <thead>\n",
       "    <tr style=\"text-align: right;\">\n",
       "      <th></th>\n",
       "      <th>bank</th>\n",
       "      <th>rating</th>\n",
       "      <th>sentiment_score</th>\n",
       "    </tr>\n",
       "  </thead>\n",
       "  <tbody>\n",
       "    <tr>\n",
       "      <th>10</th>\n",
       "      <td>Dashen Bank</td>\n",
       "      <td>1</td>\n",
       "      <td>0.995749</td>\n",
       "    </tr>\n",
       "    <tr>\n",
       "      <th>0</th>\n",
       "      <td>Bank of Abyssinia (BOA)</td>\n",
       "      <td>1</td>\n",
       "      <td>0.976366</td>\n",
       "    </tr>\n",
       "    <tr>\n",
       "      <th>5</th>\n",
       "      <td>Commercial Bank of Ethiopia (CBE)</td>\n",
       "      <td>1</td>\n",
       "      <td>0.971417</td>\n",
       "    </tr>\n",
       "  </tbody>\n",
       "</table>\n",
       "</div>"
      ],
      "text/plain": [
       "                                 bank  rating  sentiment_score\n",
       "10                        Dashen Bank       1         0.995749\n",
       "0             Bank of Abyssinia (BOA)       1         0.976366\n",
       "5   Commercial Bank of Ethiopia (CBE)       1         0.971417"
      ]
     },
     "execution_count": 4,
     "metadata": {},
     "output_type": "execute_result"
    }
   ],
   "source": [
    "sentiment_summary = (\n",
    "    df.groupby(['bank', 'rating'])['sentiment_score']\n",
    "    .mean()\n",
    "    .reset_index()\n",
    "    .sort_values(by='sentiment_score', ascending=False)\n",
    ")\n",
    "\n",
    "sentiment_summary[sentiment_summary[\"rating\"] == 1] # how much the model is condient about negative reviews"
   ]
  },
  {
   "cell_type": "markdown",
   "id": "4c6314cd",
   "metadata": {},
   "source": [
    "## Sentiment Analysis Interpretation for Low Ratings\n",
    "\n",
    "The sentiment classification for 1-star reviews across major banks reveals consistently high confidence scores from the model, ranging from **0.971 to 0.996**. This indicates that:\n",
    "\n",
    "- The model is **highly certain** these reviews reflect **negative sentiment**.\n",
    "- Negative emotional tone is **strongly aligned** with low user ratings, suggesting **semantic and numerical coherence**.\n",
    "- Among the banks:\n",
    "  - **Dashen Bank** shows the highest confidence (**0.996**), implying highly expressive dissatisfaction in its lowest-rated feedback.\n",
    "  - **BOA and CBE** follow closely, with confidence scores above **0.97**, affirming reliable sentiment detection.\n",
    "\n",
    "### Insight\n",
    "The tight clustering of confidence scores across these 1-star ratings supports the robustness of the sentiment model in identifying clear negative sentiment. It also hints at **minimal ambiguity** in textual tone within low-rated reviews — a key factor when evaluating rating-sentiment consistency.\n",
    "\n",
    "This insight adds validation to downstream analyses, such as contradiction checks, thematic clustering, and comparative sentiment strength across institutions.\n"
   ]
  },
  {
   "cell_type": "markdown",
   "id": "e60e8a7d",
   "metadata": {},
   "source": [
    "# Thematic Analysis of User Reviews Across Banks\n",
    "\n",
    "This notebook extracts meaningful keyword patterns from Google Play reviews to uncover common themes.  \n",
    "It uses TF-IDF n-gram vectorization and LDA topic modeling to identify clusters of feedback signals.  \n",
    "We apply this analysis to **Dashen Bank** first, then generalize manually across other banks as needed.\n",
    "\n",
    "### Workflow Summary:\n",
    "1. Text preprocessing for keyword extraction (emojis, stopwords, lemmatization)  \n",
    "2. TF-IDF vectorization using 2–3 word n-grams  \n",
    "3. LDA topic modeling with manual labeling setup  \n",
    "4. Pipeline ready for judgment-based extension to other banks"
   ]
  },
  {
   "cell_type": "code",
   "execution_count": 5,
   "id": "11001ae0",
   "metadata": {},
   "outputs": [
    {
     "name": "stderr",
     "output_type": "stream",
     "text": [
      "[nltk_data] Downloading package punkt to\n",
      "[nltk_data]     C:\\Users\\adoni\\AppData\\Roaming\\nltk_data...\n",
      "[nltk_data]   Package punkt is already up-to-date!\n",
      "[nltk_data] Downloading package stopwords to\n",
      "[nltk_data]     C:\\Users\\adoni\\AppData\\Roaming\\nltk_data...\n",
      "[nltk_data]   Package stopwords is already up-to-date!\n",
      "[nltk_data] Downloading package wordnet to\n",
      "[nltk_data]     C:\\Users\\adoni\\AppData\\Roaming\\nltk_data...\n",
      "[nltk_data]   Package wordnet is already up-to-date!\n",
      "[nltk_data] Downloading package omw-1.4 to\n",
      "[nltk_data]     C:\\Users\\adoni\\AppData\\Roaming\\nltk_data...\n",
      "[nltk_data]   Package omw-1.4 is already up-to-date!\n",
      "[nltk_data] Downloading package punkt_tab to\n",
      "[nltk_data]     C:\\Users\\adoni\\AppData\\Roaming\\nltk_data...\n",
      "[nltk_data]   Package punkt_tab is already up-to-date!\n"
     ]
    },
    {
     "data": {
      "text/plain": [
       "True"
      ]
     },
     "execution_count": 5,
     "metadata": {},
     "output_type": "execute_result"
    }
   ],
   "source": [
    "# Text cleaning and processing\n",
    "import re\n",
    "import emoji\n",
    "import nltk\n",
    "import pandas as pd\n",
    "from nltk.corpus import stopwords, wordnet\n",
    "from nltk.tokenize import word_tokenize\n",
    "from nltk.stem import WordNetLemmatizer\n",
    "\n",
    "# NLP Modeling\n",
    "from sklearn.feature_extraction.text import TfidfVectorizer\n",
    "from sklearn.decomposition import LatentDirichletAllocation\n",
    "\n",
    "# Setup\n",
    "nltk.download('punkt')\n",
    "nltk.download('stopwords')\n",
    "nltk.download('wordnet')\n",
    "nltk.download('omw-1.4')\n",
    "nltk.download('punkt_tab')"
   ]
  },
  {
   "cell_type": "markdown",
   "id": "81096869",
   "metadata": {},
   "source": [
    "#### Clean `review_clean` column for keyword modeling\n",
    "\n",
    "We'll apply a lemmatizer alongside stopword removal and emoji stripping.  \n",
    "The goal is to normalize user feedback before extracting n-gram keywords."
   ]
  },
  {
   "cell_type": "markdown",
   "id": "991aa476",
   "metadata": {},
   "source": [
    "##  Select Dashen Bank reviews and clean them for TF-IDF\n",
    "\n",
    "This prepares a `keyword_ready` column with normalized phrases ready for vectorization."
   ]
  },
  {
   "cell_type": "code",
   "execution_count": 6,
   "id": "0243a20a",
   "metadata": {},
   "outputs": [
    {
     "data": {
      "text/html": [
       "<div>\n",
       "<style scoped>\n",
       "    .dataframe tbody tr th:only-of-type {\n",
       "        vertical-align: middle;\n",
       "    }\n",
       "\n",
       "    .dataframe tbody tr th {\n",
       "        vertical-align: top;\n",
       "    }\n",
       "\n",
       "    .dataframe thead th {\n",
       "        text-align: right;\n",
       "    }\n",
       "</style>\n",
       "<table border=\"1\" class=\"dataframe\">\n",
       "  <thead>\n",
       "    <tr style=\"text-align: right;\">\n",
       "      <th></th>\n",
       "      <th>review_clean</th>\n",
       "      <th>keyword_ready</th>\n",
       "    </tr>\n",
       "  </thead>\n",
       "  <tbody>\n",
       "    <tr>\n",
       "      <th>1000</th>\n",
       "      <td>Simple for usage and well designed, attractive...</td>\n",
       "      <td>simple usage well designed attractive visual d...</td>\n",
       "    </tr>\n",
       "    <tr>\n",
       "      <th>1001</th>\n",
       "      <td>amazing product</td>\n",
       "      <td>amazing product</td>\n",
       "    </tr>\n",
       "    <tr>\n",
       "      <th>1002</th>\n",
       "      <td>this app is not good and compatible with other...</td>\n",
       "      <td>app good compatible ethiopian bank apps fast s...</td>\n",
       "    </tr>\n",
       "    <tr>\n",
       "      <th>1003</th>\n",
       "      <td>ok</td>\n",
       "      <td>ok</td>\n",
       "    </tr>\n",
       "    <tr>\n",
       "      <th>1004</th>\n",
       "      <td>like it</td>\n",
       "      <td>like</td>\n",
       "    </tr>\n",
       "  </tbody>\n",
       "</table>\n",
       "</div>"
      ],
      "text/plain": [
       "                                           review_clean  \\\n",
       "1000  Simple for usage and well designed, attractive...   \n",
       "1001                                    amazing product   \n",
       "1002  this app is not good and compatible with other...   \n",
       "1003                                                 ok   \n",
       "1004                                            like it   \n",
       "\n",
       "                                          keyword_ready  \n",
       "1000  simple usage well designed attractive visual d...  \n",
       "1001                                    amazing product  \n",
       "1002  app good compatible ethiopian bank apps fast s...  \n",
       "1003                                                 ok  \n",
       "1004                                               like  "
      ]
     },
     "execution_count": 6,
     "metadata": {},
     "output_type": "execute_result"
    }
   ],
   "source": [
    "dashen_df = df[df['bank'] == 'Dashen Bank'].copy()\n",
    "dashen_df['keyword_ready'] = dashen_df['review_clean'].apply(preprocess_for_keywords)\n",
    "dashen_df[['review_clean', 'keyword_ready']].head()"
   ]
  },
  {
   "cell_type": "markdown",
   "id": "d4456319",
   "metadata": {},
   "source": [
    "## Extract bigrams and trigrams using TF-IDF\n",
    "\n",
    "We restrict n-gram range to 2–3 to capture compound phrases like \"login issue\" or \"transfer delay\"."
   ]
  },
  {
   "cell_type": "code",
   "execution_count": 7,
   "id": "e8e4d35b",
   "metadata": {},
   "outputs": [
    {
     "name": "stdout",
     "output_type": "stream",
     "text": [
      "tfidf vectorizer initialized succesfully✅\n"
     ]
    }
   ],
   "source": [
    "# initialize vectorizer \n",
    "vectorizer = TfidfVectorizer(\n",
    "    max_df=0.1,\n",
    "    min_df=1,\n",
    "    stop_words='english',\n",
    "    ngram_range=(3,4)\n",
    ")\n",
    "print(\"tfidf vectorizer initialized succesfully✅\")"
   ]
  },
  {
   "cell_type": "code",
   "execution_count": 8,
   "id": "336841c8",
   "metadata": {},
   "outputs": [
    {
     "name": "stdout",
     "output_type": "stream",
     "text": [
      "features and matrix created\n"
     ]
    }
   ],
   "source": [
    "# create tfidf matrix and extract feature names\n",
    "dashen_tfidf_matrix = vectorizer.fit_transform(dashen_df['keyword_ready'])\n",
    "dashen_feature_names = vectorizer.get_feature_names_out()\n",
    "print(\"features and matrix created\")"
   ]
  },
  {
   "cell_type": "markdown",
   "id": "f2430923",
   "metadata": {},
   "source": [
    "## Identify latent topics with LDA and extract top keyword lists\n",
    "\n",
    "This step models topics from the TF-IDF matrix and returns terms for each topic,  \n",
    "so you can manually assign human-readable labels."
   ]
  },
  {
   "cell_type": "code",
   "execution_count": 36,
   "id": "2dde7e86",
   "metadata": {},
   "outputs": [
    {
     "name": "stdout",
     "output_type": "stream",
     "text": [
      "lda model initialized successfully✅\n"
     ]
    }
   ],
   "source": [
    "# initialize the lda model with custom parameters\n",
    "n_topics = 5\n",
    "lda_model = LatentDirichletAllocation(n_components=n_topics, max_iter=70, learning_method='batch', random_state=42)\n",
    "print(\"lda model initialized successfully✅\")"
   ]
  },
  {
   "cell_type": "code",
   "execution_count": 37,
   "id": "e1c244b7",
   "metadata": {},
   "outputs": [
    {
     "name": "stdout",
     "output_type": "stream",
     "text": [
      "Topic 1: ['mobile banking app', 'proud dashen bank', 'easy flexible app', 'thanks digital transaction', 'easy simple use', 'real life changer', 'lightweightcatchy smooth app', 'platform ive used', 'digital platform ive', 'transaction seamless shopping', 'ive used smooth transaction', 'used smooth transaction', 'best digital platform', 'best digital platform ive', 'platform ive used smooth', 'ive used smooth', 'used smooth transaction seamless', 'smooth transaction seamless shopping', 'digital platform ive used', 'smooth transaction seamless']\n",
      "Topic 2: ['app make difference', 'amazing app seen', 'hope better amole', 'fast best app', 'better catch competition', 'step ahead masterpiece', 'dashen bank choice', 'fastest easy use', 'ዳሽን ባንክ ይለያል', 'amazing app experience', 'app good guy', 'good easy use', 'wow excellent app', 'app easy use', 'good job dashen', 'dashen super app easy', 'super app easy', 'super app easy use', 'dashen super app', 'wly super app']\n",
      "Topic 3: ['best mobile banking application', 'best mobile banking', 'mobile banking application', 'wowslnwoooo wo amazing', 'best inclass app', 'good compared amole', 'best supper app', 'dashen super app', 'wow dashen super', 'wow dashen super app', 'excellent game changer', 'excellent game changer app', 'best banking app seen', 'banking app seen', 'need start cash', 'need start cash service', 'start cash service', 'good mobile bank', 'mobile bank app', 'good mobile bank app']\n",
      "Topic 4: ['dashen bank step', 'bank step ahead', 'dashen bank step ahead', 'dashen super app', 'wow amazing app', 'good app easy', 'better inclusive app', 'super smart app', 'best app seen', 'alway slow loading', 'worst app seen', 'awesome app going', 'truly db alwaysonestepahead', 'simple fast easy', 'atm east africa', 'dashen bank super', 'best platform avoid otp', 'platform avoid otp', 'best platform avoid', 'app finance sector']\n",
      "Topic 5: ['wow saff app', 'mobile banking level', 'amazing super app', 'amazing mobile app', 'wallahi fantastic bank', 'best app easy', 'best app easy use', 'come busy working', 'come busy working good', 'busy working good', 'amazings dashen bank', 'ethiopian amazings dashen', 'ethiopian amazings dashen bank', 'easy use powerful application', 'easy use powerful', 'use powerful application', 'job home bank', 'great job home', 'great job home bank', 'fast friendly user application']\n"
     ]
    }
   ],
   "source": [
    "# fit the tfidf matrix to the lda model\n",
    "lda_model.fit(dashen_tfidf_matrix)\n",
    "\n",
    "# extract topics\n",
    "lda_topics = extract_topic_keywords(lda_model, dashen_feature_names, top_n=20)\n",
    "# display the topics\n",
    "for topic, keywords in lda_topics.items():\n",
    "    print(f\"{topic}: {keywords}\")"
   ]
  },
  {
   "cell_type": "markdown",
   "id": "fd57c06c",
   "metadata": {},
   "source": [
    "### Topic Labeling Interpretation (Dashen Bank)\n",
    "\n",
    "We assigned five distinct thematic labels to topics derived from Dashen Bank user reviews. These labels reflect recurring patterns in customer feedback across usability, brand perception, and feature expectations:\n",
    "\n",
    "- **Topic 1: SeamlessTransactions_DigitalPlatform** — emphasizes smooth, lightweight app performance and satisfaction with Dashen’s digital platform for everyday banking.\n",
    "\n",
    "- **Topic 2: SuperApp_ExperiencePraise** — highlights enthusiastic praise for Dashen’s super app, ease of use, and competitive positioning against other platforms like Amole.\n",
    "\n",
    "- **Topic 3: BankingExcellence_FeatureStrength** — showcases strong endorsements of Dashen’s mobile banking capabilities, game-changing features, and cash service integration.\n",
    "\n",
    "- **Topic 4: BrandIdentity_ProgressiveDesign** — reflects Dashen’s branding as a forward-thinking bank, with references to inclusivity, innovation, and OTP-related platform improvements.\n",
    "\n",
    "- **Topic 5: UserSentiment_TrustSignals** — blends emotional expressions of trust, national pride, and satisfaction with the app’s power, speed, and user-friendliness.\n",
    "\n",
    "These thematic assignments will support future insight generation, sentiment alignment, and feature prioritization. We’ll next map these labels to individual reviews using topic probabilities from `lda.transform()`."
   ]
  },
  {
   "cell_type": "code",
   "execution_count": 38,
   "id": "5a38db47",
   "metadata": {},
   "outputs": [
    {
     "name": "stdout",
     "output_type": "stream",
     "text": [
      "✅ Dashen Bank topic keywords and theme labels are ready.\n"
     ]
    }
   ],
   "source": [
    "# Define Dashen Bank topic keywords (updated)\n",
    "dashen_topic_keywords = {\n",
    "    \"Topic 1\": ['mobile banking app', 'proud dashen bank', 'easy flexible app', 'thanks digital transaction',\n",
    "                'easy simple use', 'real life changer', 'lightweightcatchy smooth app', 'platform ive used',\n",
    "                'digital platform ive', 'transaction seamless shopping', 'ive used smooth transaction',\n",
    "                'used smooth transaction', 'best digital platform', 'best digital platform ive',\n",
    "                'platform ive used smooth', 'ive used smooth', 'used smooth transaction seamless',\n",
    "                'smooth transaction seamless shopping', 'digital platform ive used', 'smooth transaction seamless'],\n",
    "\n",
    "    \"Topic 2\": ['app make difference', 'amazing app seen', 'hope better amole', 'fast best app',\n",
    "                'better catch competition', 'step ahead masterpiece', 'dashen bank choice', 'fastest easy use',\n",
    "                'ዳሽን ባንክ ይለያል', 'amazing app experience', 'app good guy', 'good easy use', 'wow excellent app',\n",
    "                'app easy use', 'good job dashen', 'dashen super app easy', 'super app easy', 'super app easy use',\n",
    "                'dashen super app', 'wly super app'],\n",
    "\n",
    "    \"Topic 3\": ['best mobile banking application', 'best mobile banking', 'mobile banking application',\n",
    "                'wowslnwoooo wo amazing', 'best inclass app', 'good compared amole', 'best supper app',\n",
    "                'dashen super app', 'wow dashen super', 'wow dashen super app', 'excellent game changer',\n",
    "                'excellent game changer app', 'best banking app seen', 'banking app seen', 'need start cash',\n",
    "                'need start cash service', 'start cash service', 'good mobile bank', 'mobile bank app',\n",
    "                'good mobile bank app'],\n",
    "\n",
    "    \"Topic 4\": ['dashen bank step', 'bank step ahead', 'dashen bank step ahead', 'dashen super app',\n",
    "                'wow amazing app', 'good app easy', 'better inclusive app', 'super smart app', 'best app seen',\n",
    "                'alway slow loading', 'worst app seen', 'awesome app going', 'truly db alwaysonestepahead',\n",
    "                'simple fast easy', 'atm east africa', 'dashen bank super', 'best platform avoid otp',\n",
    "                'platform avoid otp', 'best platform avoid', 'app finance sector'],\n",
    "\n",
    "    \"Topic 5\": ['wow saff app', 'mobile banking level', 'amazing super app', 'amazing mobile app',\n",
    "                'wallahi fantastic bank', 'best app easy', 'best app easy use', 'come busy working',\n",
    "                'come busy working good', 'busy working good', 'amazings dashen bank', 'ethiopian amazings dashen',\n",
    "                'ethiopian amazings dashen bank', 'easy use powerful application', 'easy use powerful',\n",
    "                'use powerful application', 'job home bank', 'great job home', 'great job home bank',\n",
    "                'fast friendly user application']\n",
    "}\n",
    "\n",
    "# Define theme labels for Dashen Bank topics (updated)\n",
    "dashen_theme_labels = {\n",
    "    0: \"SeamlessTransactions_DigitalPlatform\",\n",
    "    1: \"SuperApp_ExperiencePraise\",\n",
    "    2: \"BankingExcellence_FeatureStrength\",\n",
    "    3: \"BrandIdentity_ProgressiveDesign\",\n",
    "    4: \"UserSentiment_TrustSignals\"\n",
    "}\n",
    "\n",
    "print(\"✅ Dashen Bank topic keywords and theme labels are ready.\")"
   ]
  },
  {
   "cell_type": "code",
   "execution_count": 34,
   "id": "1d2211bb",
   "metadata": {},
   "outputs": [
    {
     "name": "stdout",
     "output_type": "stream",
     "text": [
      "✅ Saved to: ../data/processed/bank_themes\\dashen_theme_map.json\n"
     ]
    }
   ],
   "source": [
    "save_topics_with_labels(\"dashen\", dashen_topic_keywords, dashen_theme_labels, \"../data/processed/bank_themes\")"
   ]
  },
  {
   "cell_type": "markdown",
   "id": "1a194322",
   "metadata": {},
   "source": [
    "## Assign Identified Theme to Each Review Using LDA Topic Probabilities\n",
    "\n",
    "We use the trained LDA model to determine each review's dominant topic.  \n",
    "This allows us to link the review to one of the five manually labeled themes, which is stored in the `identified_theme` column for downstream analysis."
   ]
  },
  {
   "cell_type": "code",
   "execution_count": 39,
   "id": "d2e1e36a",
   "metadata": {},
   "outputs": [
    {
     "name": "stdout",
     "output_type": "stream",
     "text": [
      "✅ Topics mapped to labels\n"
     ]
    }
   ],
   "source": [
    "# map appropriate topic map for each review we will map the top 3 most likely topic for review\n",
    "dashen_df['identified_theme'] = map_topics_to_labels(lda_model,dashen_tfidf_matrix, dashen_theme_labels)"
   ]
  },
  {
   "cell_type": "code",
   "execution_count": 40,
   "id": "b4324969",
   "metadata": {},
   "outputs": [
    {
     "data": {
      "text/html": [
       "<div>\n",
       "<style scoped>\n",
       "    .dataframe tbody tr th:only-of-type {\n",
       "        vertical-align: middle;\n",
       "    }\n",
       "\n",
       "    .dataframe tbody tr th {\n",
       "        vertical-align: top;\n",
       "    }\n",
       "\n",
       "    .dataframe thead th {\n",
       "        text-align: right;\n",
       "    }\n",
       "</style>\n",
       "<table border=\"1\" class=\"dataframe\">\n",
       "  <thead>\n",
       "    <tr style=\"text-align: right;\">\n",
       "      <th></th>\n",
       "      <th>identified_theme</th>\n",
       "      <th>review_clean</th>\n",
       "    </tr>\n",
       "  </thead>\n",
       "  <tbody>\n",
       "    <tr>\n",
       "      <th>1000</th>\n",
       "      <td>[BankingExcellence_FeatureStrength, UserSentim...</td>\n",
       "      <td>Simple for usage and well designed, attractive...</td>\n",
       "    </tr>\n",
       "    <tr>\n",
       "      <th>1001</th>\n",
       "      <td>[UserSentiment_TrustSignals, BrandIdentity_Pro...</td>\n",
       "      <td>amazing product</td>\n",
       "    </tr>\n",
       "    <tr>\n",
       "      <th>1002</th>\n",
       "      <td>[BankingExcellence_FeatureStrength, UserSentim...</td>\n",
       "      <td>this app is not good and compatible with other...</td>\n",
       "    </tr>\n",
       "    <tr>\n",
       "      <th>1003</th>\n",
       "      <td>[UserSentiment_TrustSignals, BrandIdentity_Pro...</td>\n",
       "      <td>ok</td>\n",
       "    </tr>\n",
       "    <tr>\n",
       "      <th>1004</th>\n",
       "      <td>[UserSentiment_TrustSignals, BrandIdentity_Pro...</td>\n",
       "      <td>like it</td>\n",
       "    </tr>\n",
       "  </tbody>\n",
       "</table>\n",
       "</div>"
      ],
      "text/plain": [
       "                                       identified_theme  \\\n",
       "1000  [BankingExcellence_FeatureStrength, UserSentim...   \n",
       "1001  [UserSentiment_TrustSignals, BrandIdentity_Pro...   \n",
       "1002  [BankingExcellence_FeatureStrength, UserSentim...   \n",
       "1003  [UserSentiment_TrustSignals, BrandIdentity_Pro...   \n",
       "1004  [UserSentiment_TrustSignals, BrandIdentity_Pro...   \n",
       "\n",
       "                                           review_clean  \n",
       "1000  Simple for usage and well designed, attractive...  \n",
       "1001                                    amazing product  \n",
       "1002  this app is not good and compatible with other...  \n",
       "1003                                                 ok  \n",
       "1004                                            like it  "
      ]
     },
     "execution_count": 40,
     "metadata": {},
     "output_type": "execute_result"
    }
   ],
   "source": [
    "dashen_df[[\"identified_theme\",\"review_clean\"]].head()"
   ]
  },
  {
   "cell_type": "markdown",
   "id": "2617ba2f",
   "metadata": {},
   "source": [
    "# We will repeat the process for the remaining two banks \n",
    "- Commercial Bank of Ethiopia (CBE)   \n",
    "- Bank of Abyssinia (BOA)  "
   ]
  },
  {
   "cell_type": "markdown",
   "id": "a7c43814",
   "metadata": {},
   "source": [
    "# CBE bank reviews"
   ]
  },
  {
   "cell_type": "code",
   "execution_count": 17,
   "id": "b09d6cff",
   "metadata": {},
   "outputs": [
    {
     "data": {
      "text/html": [
       "<div>\n",
       "<style scoped>\n",
       "    .dataframe tbody tr th:only-of-type {\n",
       "        vertical-align: middle;\n",
       "    }\n",
       "\n",
       "    .dataframe tbody tr th {\n",
       "        vertical-align: top;\n",
       "    }\n",
       "\n",
       "    .dataframe thead th {\n",
       "        text-align: right;\n",
       "    }\n",
       "</style>\n",
       "<table border=\"1\" class=\"dataframe\">\n",
       "  <thead>\n",
       "    <tr style=\"text-align: right;\">\n",
       "      <th></th>\n",
       "      <th>review_clean</th>\n",
       "      <th>keyword_ready</th>\n",
       "    </tr>\n",
       "  </thead>\n",
       "  <tbody>\n",
       "    <tr>\n",
       "      <th>0</th>\n",
       "      <td>wow</td>\n",
       "      <td>wow</td>\n",
       "    </tr>\n",
       "    <tr>\n",
       "      <th>1</th>\n",
       "      <td>excellent</td>\n",
       "      <td>excellent</td>\n",
       "    </tr>\n",
       "    <tr>\n",
       "      <th>2</th>\n",
       "      <td>great</td>\n",
       "      <td>great</td>\n",
       "    </tr>\n",
       "    <tr>\n",
       "      <th>3</th>\n",
       "      <td>Great</td>\n",
       "      <td>great</td>\n",
       "    </tr>\n",
       "    <tr>\n",
       "      <th>4</th>\n",
       "      <td>there is many thing u have to fix.</td>\n",
       "      <td>many thing u fix</td>\n",
       "    </tr>\n",
       "  </tbody>\n",
       "</table>\n",
       "</div>"
      ],
      "text/plain": [
       "                         review_clean     keyword_ready\n",
       "0                                 wow               wow\n",
       "1                           excellent         excellent\n",
       "2                               great             great\n",
       "3                               Great             great\n",
       "4  there is many thing u have to fix.  many thing u fix"
      ]
     },
     "execution_count": 17,
     "metadata": {},
     "output_type": "execute_result"
    }
   ],
   "source": [
    "# preprocess the reviews for cbe bank for thematics\n",
    "cbe_df = df[df['bank'] == 'Commercial Bank of Ethiopia (CBE)'].copy()\n",
    "cbe_df['keyword_ready'] = cbe_df['review_clean'].apply(preprocess_for_keywords)\n",
    "cbe_df[['review_clean', 'keyword_ready']].head()"
   ]
  },
  {
   "cell_type": "code",
   "execution_count": 18,
   "id": "fbf7fb47",
   "metadata": {},
   "outputs": [],
   "source": [
    "vectorizer = TfidfVectorizer(\n",
    "    max_df=0.1, # to avoid very frequent words\n",
    "    min_df=1, # to capture words that are inherent to reviews \n",
    "    stop_words='english',\n",
    "    ngram_range=(3,4)\n",
    ")\n",
    "\n",
    "# Create TF-IDF matrix for CBE bank\n",
    "cbe_tfidf_matrix = vectorizer.fit_transform(cbe_df['keyword_ready'])\n",
    "cbe_feature_names = vectorizer.get_feature_names_out()"
   ]
  },
  {
   "cell_type": "code",
   "execution_count": 19,
   "id": "6cf94ba7",
   "metadata": {},
   "outputs": [
    {
     "name": "stdout",
     "output_type": "stream",
     "text": [
      "Topic 1: ['fast easy use', 'garrantty bank ebc', 'nice use app', 'slow account used', 'woxe harimo ribiso', 'good app fast', 'easy use clear', 'best app finance', 'app say sync', 'app android phone', 'nice app android phone', 'nice app android', 'app proactive good', 'proactive good connection', 'app proactive good connection', 'necessary app people', 'app necessary app', 'app necessary app people', 'excellent easy access uptodate', 'excellent easy access']\n",
      "Topic 2: ['make life easy', 'best mobile banking ethiopia', 'mobile banking ethiopia', 'best mobile banking', 'work abroad cbe', 'removing screenshot feature', 'service mobile banking', 'work screen shot', 'fast best service head', 'fast best service', 'best service head', 'excellent application user', 'application user friendlynice', 'excellent application user friendlynice', 'dont know prefer', 'busy dont know prefer', 'busy dont know', 'amazing app im enjoying', 'amazing app im', 'app im enjoying']\n",
      "Topic 3: ['cbe mobile banking', 'simple use amazing', 'wow amazing app', 'best app loved', 'cbe mobilr bankg', 'safe secure fast', 'fast simple easy', 'fast simple easy use', 'applicatiom doesnt work', 'amazing applicatiom doesnt work', 'amazing applicatiom doesnt', 'good app time manager', 'app time manager', 'good app time', 'send cbebirr app app', 'cbebirr app app', 'send cbebirr app', 'leading commercial bank', 'cbe leading commercial', 'cbe leading commercial bank']\n",
      "Topic 4: ['best mobile banking app', 'mobile banking app', 'best mobile banking', 'change default network', 'low quality application', 'bring screenshot feature', 'reliable easy use', 'pride ethiopian bank', 'working safari network', 'wow best application', 'best banking app', 'good easy use', 'nice fast app', 'transfer money telebirr', 'app mobile banking', 'option app mobile banking', 'option app mobile', 'update security policy screenshots', 'update security policy', 'security policy screenshots']\n",
      "Topic 5: ['app good using', 'malkaamuu jiidhaa namoo', 'satisfied beautiful app', 'easy thank cebe', 'good week oky', 'bad hard use', 'able make screenshot', 'wow simple life', 'best best fast', 'wonder easy use', 'good simple use', 'good thanks service', 'need update today', 'good need update today', 'good need update', 'app sure secure', 'satisfied app sure', 'satisfied app sure secure', 'worst bank app', 'bank app ethiopia']\n"
     ]
    }
   ],
   "source": [
    "# apply the same LDA model to CBE bank reviews\n",
    "lda_model.fit(cbe_tfidf_matrix)\n",
    "\n",
    "lda_topics = extract_topic_keywords(lda_model, cbe_feature_names, top_n=20)\n",
    "\n",
    "# Display the extracted topics \n",
    "for topic, keywords in lda_topics.items():\n",
    "    print(f\"{topic}: {keywords}\")"
   ]
  },
  {
   "cell_type": "markdown",
   "id": "ea08d7e0",
   "metadata": {},
   "source": [
    "### Topic Labeling Interpretation (CBE Bank)\n",
    "\n",
    "We assigned five distinct thematic labels to topics derived from CBE user reviews. These labels reflect recurring patterns in customer feedback across usability, service quality, and operational functionality:\n",
    "\n",
    "- **Topic 1: EaseOfUse_AppPerformance** — reviews praise the app’s clarity, speed, proactive design, and accessibility across devices.\n",
    "- **Topic 2: ServiceExperience_Satisfaction** — highlights satisfaction with mobile banking services, international usability, and overall convenience.\n",
    "- **Topic 3: Functionality_ReputationMixed** — blends praise for CBE’s legacy and secure performance with critical mentions of technical issues.\n",
    "- **Topic 4: FeatureRequest_SecurityConcerns** — focuses on requests for network tweaks, returning screenshots, and security policies; also contains national pride themes.\n",
    "- **Topic 5: MixedSentiment_UsabilityUpdates** — contains varied opinions about usability, service quality, update needs, and dissatisfaction with the app’s current state.\n",
    "\n",
    "These thematic assignments will support future insight generation, sentiment alignment, and recommendation tracking. We’ll next map these labels to individual reviews using topic probabilities from `lda.transform()`."
   ]
  },
  {
   "cell_type": "code",
   "execution_count": 20,
   "id": "7ef1e745",
   "metadata": {},
   "outputs": [
    {
     "name": "stdout",
     "output_type": "stream",
     "text": [
      "✅ CBE topic keywords and theme labels are defined successfully.\n"
     ]
    }
   ],
   "source": [
    "# Create a dictionary for CBE topic keywords\n",
    "cbe_topic_keywords = {\n",
    "    \"Topic 1\": ['fast easy use', 'garrantty bank ebc', 'nice use app', 'slow account used', 'woxe harimo ribiso', 'good app fast', 'easy use clear', 'best app finance', 'app say sync', 'app android phone', 'nice app android phone', 'nice app android', 'app proactive good', 'proactive good connection', 'app proactive good connection', 'necessary app people', 'app necessary app', 'app necessary app people', 'excellent easy access uptodate', 'excellent easy access'],\n",
    "    \"Topic 2\": ['make life easy', 'best mobile banking ethiopia', 'mobile banking ethiopia', 'best mobile banking', 'work abroad cbe', 'removing screenshot feature', 'service mobile banking', 'work screen shot', 'fast best service head', 'fast best service', 'best service head', 'excellent application user', 'application user friendlynice', 'excellent application user friendlynice', 'dont know prefer', 'busy dont know prefer', 'busy dont know', 'amazing app im enjoying', 'amazing app im', 'app im enjoying'],\n",
    "    \"Topic 3\": ['cbe mobile banking', 'simple use amazing', 'wow amazing app', 'best app loved', 'cbe mobilr bankg', 'safe secure fast', 'fast simple easy', 'fast simple easy use', 'applicatiom doesnt work', 'amazing applicatiom doesnt work', 'amazing applicatiom doesnt', 'good app time manager', 'app time manager', 'good app time', 'send cbebirr app app', 'cbebirr app app', 'send cbebirr app', 'leading commercial bank', 'cbe leading commercial', 'cbe leading commercial bank'],\n",
    "    \"Topic 4\": ['best mobile banking app', 'mobile banking app', 'best mobile banking', 'change default network', 'low quality application', 'bring screenshot feature', 'reliable easy use', 'pride ethiopian bank', 'working safari network', 'wow best application', 'best banking app', 'good easy use', 'nice fast app', 'transfer money telebirr', 'app mobile banking', 'option app mobile banking', 'option app mobile', 'update security policy screenshots', 'update security policy', 'security policy screenshots'],\n",
    "    \"Topic 5\": ['app good using', 'malkaamuu jiidhaa namoo', 'satisfied beautiful app', 'easy thank cebe', 'good week oky', 'bad hard use', 'able make screenshot', 'wow simple life', 'best best fast', 'wonder easy use', 'good simple use', 'good thanks service', 'need update today', 'good need update today', 'good need update', 'app sure secure', 'satisfied app sure', 'satisfied app sure secure', 'worst bank app', 'bank app ethiopia']\n",
    "}\n",
    "\n",
    "# Define theme labels for CBE topic clusters\n",
    "cbe_theme_labels = {\n",
    "    0: \"Ease of Use & App Performance\",\n",
    "    1: \"Service Satisfaction & International Access\",\n",
    "    2: \"Functionality & Mixed Reliability Signals\",\n",
    "    3: \"Feature Requests & Security Expectations\",\n",
    "    4: \"Update Needs & Sentiment Variation\"\n",
    "}\n",
    "\n",
    "print(\"✅ CBE topic keywords and theme labels are defined successfully.\")"
   ]
  },
  {
   "cell_type": "code",
   "execution_count": 21,
   "id": "ceff5be5",
   "metadata": {},
   "outputs": [
    {
     "name": "stdout",
     "output_type": "stream",
     "text": [
      "✅ Saved to: ../data/processed/bank_themes\\cbe_theme_map.json\n"
     ]
    }
   ],
   "source": [
    "# save theme labels for cbe for later analysis\n",
    "save_topics_with_labels(\"cbe\", cbe_topic_keywords, cbe_theme_labels, \"../data/processed/bank_themes\")"
   ]
  },
  {
   "cell_type": "code",
   "execution_count": 22,
   "id": "8f1e0d91",
   "metadata": {},
   "outputs": [
    {
     "name": "stdout",
     "output_type": "stream",
     "text": [
      "✅ Topics mapped to labels\n"
     ]
    }
   ],
   "source": [
    "# Apply the thematic analysis function to CBE bank reviews\n",
    "cbe_df['identified_theme'] = map_topics_to_labels(lda_model, cbe_tfidf_matrix, cbe_theme_labels)"
   ]
  },
  {
   "cell_type": "code",
   "execution_count": 23,
   "id": "b6974968",
   "metadata": {},
   "outputs": [
    {
     "data": {
      "text/html": [
       "<div>\n",
       "<style scoped>\n",
       "    .dataframe tbody tr th:only-of-type {\n",
       "        vertical-align: middle;\n",
       "    }\n",
       "\n",
       "    .dataframe tbody tr th {\n",
       "        vertical-align: top;\n",
       "    }\n",
       "\n",
       "    .dataframe thead th {\n",
       "        text-align: right;\n",
       "    }\n",
       "</style>\n",
       "<table border=\"1\" class=\"dataframe\">\n",
       "  <thead>\n",
       "    <tr style=\"text-align: right;\">\n",
       "      <th></th>\n",
       "      <th>identified_theme</th>\n",
       "      <th>review_clean</th>\n",
       "    </tr>\n",
       "  </thead>\n",
       "  <tbody>\n",
       "    <tr>\n",
       "      <th>0</th>\n",
       "      <td>[Update Needs &amp; Sentiment Variation, Feature R...</td>\n",
       "      <td>wow</td>\n",
       "    </tr>\n",
       "    <tr>\n",
       "      <th>1</th>\n",
       "      <td>[Update Needs &amp; Sentiment Variation, Feature R...</td>\n",
       "      <td>excellent</td>\n",
       "    </tr>\n",
       "    <tr>\n",
       "      <th>2</th>\n",
       "      <td>[Update Needs &amp; Sentiment Variation, Feature R...</td>\n",
       "      <td>great</td>\n",
       "    </tr>\n",
       "    <tr>\n",
       "      <th>3</th>\n",
       "      <td>[Update Needs &amp; Sentiment Variation, Feature R...</td>\n",
       "      <td>Great</td>\n",
       "    </tr>\n",
       "    <tr>\n",
       "      <th>4</th>\n",
       "      <td>[Update Needs &amp; Sentiment Variation, Feature R...</td>\n",
       "      <td>there is many thing u have to fix.</td>\n",
       "    </tr>\n",
       "    <tr>\n",
       "      <th>...</th>\n",
       "      <td>...</td>\n",
       "      <td>...</td>\n",
       "    </tr>\n",
       "    <tr>\n",
       "      <th>495</th>\n",
       "      <td>[Update Needs &amp; Sentiment Variation, Feature R...</td>\n",
       "      <td>wow.......cbe.....keep it up.....!!!!!!</td>\n",
       "    </tr>\n",
       "    <tr>\n",
       "      <th>496</th>\n",
       "      <td>[Update Needs &amp; Sentiment Variation, Service S...</td>\n",
       "      <td>ጊዜን ቆጣቢ እና ህይወትን ቀለል ከሚያደርጉ ኢትዬጲያ ካሉ ፋይናንስ አፕል...</td>\n",
       "    </tr>\n",
       "    <tr>\n",
       "      <th>497</th>\n",
       "      <td>[Update Needs &amp; Sentiment Variation, Feature R...</td>\n",
       "      <td>Excellent🙏app</td>\n",
       "    </tr>\n",
       "    <tr>\n",
       "      <th>498</th>\n",
       "      <td>[Update Needs &amp; Sentiment Variation, Feature R...</td>\n",
       "      <td>the most useful</td>\n",
       "    </tr>\n",
       "    <tr>\n",
       "      <th>499</th>\n",
       "      <td>[Update Needs &amp; Sentiment Variation, Service S...</td>\n",
       "      <td>I am more satisfied in this app . More sure yo...</td>\n",
       "    </tr>\n",
       "  </tbody>\n",
       "</table>\n",
       "<p>500 rows × 2 columns</p>\n",
       "</div>"
      ],
      "text/plain": [
       "                                      identified_theme  \\\n",
       "0    [Update Needs & Sentiment Variation, Feature R...   \n",
       "1    [Update Needs & Sentiment Variation, Feature R...   \n",
       "2    [Update Needs & Sentiment Variation, Feature R...   \n",
       "3    [Update Needs & Sentiment Variation, Feature R...   \n",
       "4    [Update Needs & Sentiment Variation, Feature R...   \n",
       "..                                                 ...   \n",
       "495  [Update Needs & Sentiment Variation, Feature R...   \n",
       "496  [Update Needs & Sentiment Variation, Service S...   \n",
       "497  [Update Needs & Sentiment Variation, Feature R...   \n",
       "498  [Update Needs & Sentiment Variation, Feature R...   \n",
       "499  [Update Needs & Sentiment Variation, Service S...   \n",
       "\n",
       "                                          review_clean  \n",
       "0                                                  wow  \n",
       "1                                            excellent  \n",
       "2                                                great  \n",
       "3                                                Great  \n",
       "4                   there is many thing u have to fix.  \n",
       "..                                                 ...  \n",
       "495            wow.......cbe.....keep it up.....!!!!!!  \n",
       "496  ጊዜን ቆጣቢ እና ህይወትን ቀለል ከሚያደርጉ ኢትዬጲያ ካሉ ፋይናንስ አፕል...  \n",
       "497                                      Excellent🙏app  \n",
       "498                                    the most useful  \n",
       "499  I am more satisfied in this app . More sure yo...  \n",
       "\n",
       "[500 rows x 2 columns]"
      ]
     },
     "execution_count": 23,
     "metadata": {},
     "output_type": "execute_result"
    }
   ],
   "source": [
    "cbe_df[[\"identified_theme\",\"review_clean\"]]"
   ]
  },
  {
   "cell_type": "markdown",
   "id": "edef773f",
   "metadata": {},
   "source": [
    "# BOA bank reviews"
   ]
  },
  {
   "cell_type": "code",
   "execution_count": 24,
   "id": "ad886439",
   "metadata": {},
   "outputs": [
    {
     "data": {
      "text/html": [
       "<div>\n",
       "<style scoped>\n",
       "    .dataframe tbody tr th:only-of-type {\n",
       "        vertical-align: middle;\n",
       "    }\n",
       "\n",
       "    .dataframe tbody tr th {\n",
       "        vertical-align: top;\n",
       "    }\n",
       "\n",
       "    .dataframe thead th {\n",
       "        text-align: right;\n",
       "    }\n",
       "</style>\n",
       "<table border=\"1\" class=\"dataframe\">\n",
       "  <thead>\n",
       "    <tr style=\"text-align: right;\">\n",
       "      <th></th>\n",
       "      <th>review_clean</th>\n",
       "      <th>keyword_ready</th>\n",
       "    </tr>\n",
       "  </thead>\n",
       "  <tbody>\n",
       "    <tr>\n",
       "      <th>500</th>\n",
       "      <td>nothing when I need to install the Apk it say ...</td>\n",
       "      <td>nothing need install apk say reup date</td>\n",
       "    </tr>\n",
       "    <tr>\n",
       "      <th>501</th>\n",
       "      <td>I can log in from any where</td>\n",
       "      <td>log</td>\n",
       "    </tr>\n",
       "    <tr>\n",
       "      <th>502</th>\n",
       "      <td>😇</td>\n",
       "      <td></td>\n",
       "    </tr>\n",
       "    <tr>\n",
       "      <th>503</th>\n",
       "      <td>no proplem</td>\n",
       "      <td>proplem</td>\n",
       "    </tr>\n",
       "    <tr>\n",
       "      <th>504</th>\n",
       "      <td>👍👍👍</td>\n",
       "      <td></td>\n",
       "    </tr>\n",
       "  </tbody>\n",
       "</table>\n",
       "</div>"
      ],
      "text/plain": [
       "                                          review_clean  \\\n",
       "500  nothing when I need to install the Apk it say ...   \n",
       "501                        I can log in from any where   \n",
       "502                                                  😇   \n",
       "503                                         no proplem   \n",
       "504                                                👍👍👍   \n",
       "\n",
       "                              keyword_ready  \n",
       "500  nothing need install apk say reup date  \n",
       "501                                     log  \n",
       "502                                          \n",
       "503                                 proplem  \n",
       "504                                          "
      ]
     },
     "execution_count": 24,
     "metadata": {},
     "output_type": "execute_result"
    }
   ],
   "source": [
    "# preprocess the reviews for cbe bank for thematics\n",
    "boa_df = df[df['bank'] == 'Bank of Abyssinia (BOA)'].copy()\n",
    "boa_df['keyword_ready'] = boa_df['review_clean'].apply(preprocess_for_keywords)\n",
    "boa_df[['review_clean', 'keyword_ready']].head()"
   ]
  },
  {
   "cell_type": "code",
   "execution_count": 25,
   "id": "b26ca77a",
   "metadata": {},
   "outputs": [],
   "source": [
    "vectorizer = TfidfVectorizer(\n",
    "    max_df=0.1, # to avoid very frequent words\n",
    "    min_df=1, # to capture words that are inherent to reviews \n",
    "    stop_words='english',\n",
    "    ngram_range=(3,4)\n",
    ")\n",
    "\n",
    "# Create TF-IDF matrix for CBE bank\n",
    "boa_tfidf_matrix = vectorizer.fit_transform(boa_df['keyword_ready'])\n",
    "boa_feature_names = vectorizer.get_feature_names_out()"
   ]
  },
  {
   "cell_type": "code",
   "execution_count": 26,
   "id": "36c38377",
   "metadata": {},
   "outputs": [
    {
     "name": "stdout",
     "output_type": "stream",
     "text": [
      "Topic 1: ['app crush frequently', 'great financial company', 'lemn embi yilal', 'doesnt workso frustrating', 'professional banking app', 'ብዙዬ ሺዋየ በለጠ', 'አቢስኒያ የሁሉም ምርጫ', 'guy getting worst', 'faster bank abissinya', 'opening really frustrating', 'corrupted poor app', 'worst mobile banking app', 'mobile banking app', 'worst mobile banking', 'worst app human created', 'app human created', 'open display error message', 'display error message', 'open display error', 'better compared cbe']\n",
      "Topic 2: ['poor application turned', 'work correctly update', 'gooood app dear', 'boa mobile backing', 'aadan axmed barkhadle', 'ahmed mohammed husen', 'liking application good', 'app doesnt work', 'dirtiest application seen', 'useless app downgraded', 'app doesnt start', 'ቆንጆ ነው በርቱ', 'worst app seen like', 'worst app seen', 'app seen like', 'want international mobile', 'international mobile banking', 'want international mobile banking', 'boa greqt ethiopian bank', 'boa greqt ethiopian']\n",
      "Topic 3: ['worst banking app', 'poorest mobile banking', 'update doesnt work', 'ok stop sundenly', 'far good lug', 'good app fore', 'fast suitable customer', 'want download dont', 'awasome app head', 'bast bank ethiopia', 'yegema app tish', 'yes active user', 'bad app slow', 'አሪፍ ነው በርቱልን', 'harun tamam galanaa', 'possible gove star', 'app android phone', 'best financial app', 'banking app work', 'worst banking app work']\n",
      "Topic 4: ['app isnt working', 'worest app loading', 'help like ittttt', 'good app helpful', 'apps crash error', 'open open service', 'አይሰራም ሼም ነው', 'trust bank service', 'dont trust bank service', 'dont trust bank', 'የእርስዎን ተሞክሮ ይግለጹ አማራጭ', 'ተሞክሮ ይግለጹ አማራጭ', 'የእርስዎን ተሞክሮ ይግለጹ', 'bad app vety bad', 'app vety bad', 'bad app vety', 'attention important difficult', 'attention important difficult time', 'important difficult time', 'uselss app dont download']\n",
      "Topic 5: ['worest app recommende', 'problematic hardly work', 'nise mobile bankig', 'poorly functioning app', 'amazing bank app', 'previous application better', 'worest mb app', 'doesnt work device', 'new app good', 'working day check', 'disable developer option', 'demand disable developer option', 'demand disable developer', 'best banking app wworld', 'banking app wworld', 'occured worst app', 'error occured worst', 'error occured worst app', 'use applicationplease help', 'open use applicationplease help']\n"
     ]
    }
   ],
   "source": [
    "# apply the same LDA model to CBE bank reviews\n",
    "lda_model.fit(boa_tfidf_matrix)\n",
    "\n",
    "lda_topics = extract_topic_keywords(lda_model, boa_feature_names, top_n=20)\n",
    "\n",
    "# Display the extracted topics \n",
    "for topic, keywords in lda_topics.items():\n",
    "    print(f\"{topic}: {keywords}\")"
   ]
  },
  {
   "cell_type": "markdown",
   "id": "69a40379",
   "metadata": {},
   "source": [
    "### Topic Labeling Interpretation (BOA App)\n",
    "\n",
    "We assigned five distinct thematic labels to topics derived from BOA user reviews. These themes reflect recurring signals around functionality challenges, praise, and user frustration:\n",
    "\n",
    "- **Topic 1: App Crashes & Frustration Signals** — highlights frequent app crashes, error messages, and comparison to competitor apps.\n",
    "- **Topic 2: Inconsistency & Usability Complaints** — contains issues with app reliability, poor user flow, and requests for international access.\n",
    "- **Topic 3: Mixed Feedback & Customer Experience** — blends praise for banking service with disruptions, update failures, and slow performance.\n",
    "- **Topic 4: Trust Issues & Service Downtime** — surfaces poor load times, security concerns, user doubt, and negative experience emphasis.\n",
    "- **Topic 5: Prior App Preference & Feature Breakdown** — mentions legacy app functionality, developer settings, and problematic app behavior.\n",
    "\n",
    "These thematic groupings offer meaningful insight into user sentiment and app stability concerns. Next, we’ll map these themes to reviews using LDA output."
   ]
  },
  {
   "cell_type": "code",
   "execution_count": 27,
   "id": "b37a9153",
   "metadata": {},
   "outputs": [
    {
     "name": "stdout",
     "output_type": "stream",
     "text": [
      "✅ BOA topic keywords and theme labels are ready.\n"
     ]
    }
   ],
   "source": [
    "# Define BOA topic keywords\n",
    "boa_topic_keywords = {\n",
    "    \"Topic 1\": ['app crush frequently', 'great financial company', 'lemn embi yilal', 'doesnt workso frustrating',\n",
    "                'professional banking app', 'ብዙዬ ሺዋየ በለጠ', 'አቢስኒያ የሁሉም ምርጫ', 'guy getting worst',\n",
    "                'faster bank abissinya', 'opening really frustrating', 'corrupted poor app', 'worst mobile banking app',\n",
    "                'mobile banking app', 'worst mobile banking', 'worst app human created', 'app human created',\n",
    "                'open display error message', 'display error message', 'open display error', 'better compared cbe'],\n",
    "\n",
    "    \"Topic 2\": ['poor application turned', 'work correctly update', 'gooood app dear', 'boa mobile backing',\n",
    "                'aadan axmed barkhadle', 'ahmed mohammed husen', 'liking application good', 'app doesnt work',\n",
    "                'dirtiest application seen', 'useless app downgraded', 'app doesnt start', 'ቆንጆ ነው በርቱ',\n",
    "                'worst app seen like', 'worst app seen', 'app seen like', 'want international mobile',\n",
    "                'international mobile banking', 'want international mobile banking', 'boa greqt ethiopian bank',\n",
    "                'boa greqt ethiopian'],\n",
    "\n",
    "    \"Topic 3\": ['worst banking app', 'poorest mobile banking', 'update doesnt work', 'ok stop sundenly',\n",
    "                'far good lug', 'good app fore', 'fast suitable customer', 'want download dont',\n",
    "                'awasome app head', 'bast bank ethiopia', 'yegema app tish', 'yes active user', 'bad app slow',\n",
    "                'አሪፍ ነው በርቱልን', 'harun tamam galanaa', 'possible gove star', 'app android phone',\n",
    "                'best financial app', 'banking app work', 'worst banking app work'],\n",
    "\n",
    "    \"Topic 4\": ['app isnt working', 'worest app loading', 'help like ittttt', 'good app helpful', 'apps crash error',\n",
    "                'open open service', 'አይሰራም ሼም ነው', 'trust bank service', 'dont trust bank service',\n",
    "                'dont trust bank', 'የእርስዎን ተሞክሮ ይግለጹ አማራጭ', 'ተሞክሮ ይግለጹ አማራጭ', 'የእርስዎን ተሞክሮ ይግለጹ',\n",
    "                'bad app vety bad', 'app vety bad', 'bad app vety', 'attention important difficult',\n",
    "                'attention important difficult time', 'important difficult time', 'uselss app dont download'],\n",
    "\n",
    "    \"Topic 5\": ['worest app recommende', 'problematic hardly work', 'nise mobile bankig', 'poorly functioning app',\n",
    "                'amazing bank app', 'previous application better', 'worest mb app', 'doesnt work device',\n",
    "                'new app good', 'working day check', 'disable developer option', 'demand disable developer option',\n",
    "                'demand disable developer', 'best banking app wworld', 'banking app wworld', 'occured worst app',\n",
    "                'error occured worst', 'error occured worst app', 'use applicationplease help', 'open use applicationplease help']\n",
    "}\n",
    "\n",
    "# Define theme labels for BOA topics\n",
    "boa_theme_labels = {\n",
    "    0: \"App Crashes & Frustration Signals\",\n",
    "    1: \"Inconsistency & Usability Complaints\",\n",
    "    2: \"Mixed Feedback & Customer Experience\",\n",
    "    3: \"Trust Issues & Service Downtime\",\n",
    "    4: \"Prior App Preference & Feature Breakdown\"\n",
    "}\n",
    "\n",
    "print(\"✅ BOA topic keywords and theme labels are ready.\")"
   ]
  },
  {
   "cell_type": "code",
   "execution_count": 28,
   "id": "92671bf8",
   "metadata": {},
   "outputs": [
    {
     "name": "stdout",
     "output_type": "stream",
     "text": [
      "✅ Saved to: ../data/processed/bank_themes\\boa_theme_map.json\n"
     ]
    }
   ],
   "source": [
    "# save theme labels for cbe for later analysis\n",
    "save_topics_with_labels(\"boa\", boa_topic_keywords, boa_theme_labels, \"../data/processed/bank_themes\")"
   ]
  },
  {
   "cell_type": "code",
   "execution_count": 31,
   "id": "7f7ac7a3",
   "metadata": {},
   "outputs": [
    {
     "name": "stdout",
     "output_type": "stream",
     "text": [
      "✅ Topics mapped to labels\n"
     ]
    }
   ],
   "source": [
    "# Apply the thematic analysis function to CBE bank reviews\n",
    "boa_df['identified_theme'] = map_topics_to_labels(lda_model, boa_tfidf_matrix, boa_theme_labels)"
   ]
  },
  {
   "cell_type": "code",
   "execution_count": 32,
   "id": "4c138b8d",
   "metadata": {},
   "outputs": [
    {
     "data": {
      "text/html": [
       "<div>\n",
       "<style scoped>\n",
       "    .dataframe tbody tr th:only-of-type {\n",
       "        vertical-align: middle;\n",
       "    }\n",
       "\n",
       "    .dataframe tbody tr th {\n",
       "        vertical-align: top;\n",
       "    }\n",
       "\n",
       "    .dataframe thead th {\n",
       "        text-align: right;\n",
       "    }\n",
       "</style>\n",
       "<table border=\"1\" class=\"dataframe\">\n",
       "  <thead>\n",
       "    <tr style=\"text-align: right;\">\n",
       "      <th></th>\n",
       "      <th>identified_theme</th>\n",
       "      <th>review_clean</th>\n",
       "    </tr>\n",
       "  </thead>\n",
       "  <tbody>\n",
       "    <tr>\n",
       "      <th>500</th>\n",
       "      <td>[Mixed Feedback &amp; Customer Experience, Inconsi...</td>\n",
       "      <td>nothing when I need to install the Apk it say ...</td>\n",
       "    </tr>\n",
       "    <tr>\n",
       "      <th>501</th>\n",
       "      <td>[Prior App Preference &amp; Feature Breakdown, Tru...</td>\n",
       "      <td>I can log in from any where</td>\n",
       "    </tr>\n",
       "    <tr>\n",
       "      <th>502</th>\n",
       "      <td>[Prior App Preference &amp; Feature Breakdown, Tru...</td>\n",
       "      <td>😇</td>\n",
       "    </tr>\n",
       "    <tr>\n",
       "      <th>503</th>\n",
       "      <td>[Prior App Preference &amp; Feature Breakdown, Tru...</td>\n",
       "      <td>no proplem</td>\n",
       "    </tr>\n",
       "    <tr>\n",
       "      <th>504</th>\n",
       "      <td>[Prior App Preference &amp; Feature Breakdown, Tru...</td>\n",
       "      <td>👍👍👍</td>\n",
       "    </tr>\n",
       "    <tr>\n",
       "      <th>...</th>\n",
       "      <td>...</td>\n",
       "      <td>...</td>\n",
       "    </tr>\n",
       "    <tr>\n",
       "      <th>995</th>\n",
       "      <td>[Prior App Preference &amp; Feature Breakdown, Mix...</td>\n",
       "      <td>Always error occured. The worst app ever</td>\n",
       "    </tr>\n",
       "    <tr>\n",
       "      <th>996</th>\n",
       "      <td>[Mixed Feedback &amp; Customer Experience, Inconsi...</td>\n",
       "      <td>ከዚህ ትልቅ ባንክ የማይጠበቅ ድንዝዝዝዝ ያለ App.... ዛግግግ ነው ያ...</td>\n",
       "    </tr>\n",
       "    <tr>\n",
       "      <th>997</th>\n",
       "      <td>[Prior App Preference &amp; Feature Breakdown, Tru...</td>\n",
       "      <td>Excellent service</td>\n",
       "    </tr>\n",
       "    <tr>\n",
       "      <th>998</th>\n",
       "      <td>[Prior App Preference &amp; Feature Breakdown, Tru...</td>\n",
       "      <td>It's not convenient</td>\n",
       "    </tr>\n",
       "    <tr>\n",
       "      <th>999</th>\n",
       "      <td>[Prior App Preference &amp; Feature Breakdown, Tru...</td>\n",
       "      <td>meskelu Metku</td>\n",
       "    </tr>\n",
       "  </tbody>\n",
       "</table>\n",
       "<p>500 rows × 2 columns</p>\n",
       "</div>"
      ],
      "text/plain": [
       "                                      identified_theme  \\\n",
       "500  [Mixed Feedback & Customer Experience, Inconsi...   \n",
       "501  [Prior App Preference & Feature Breakdown, Tru...   \n",
       "502  [Prior App Preference & Feature Breakdown, Tru...   \n",
       "503  [Prior App Preference & Feature Breakdown, Tru...   \n",
       "504  [Prior App Preference & Feature Breakdown, Tru...   \n",
       "..                                                 ...   \n",
       "995  [Prior App Preference & Feature Breakdown, Mix...   \n",
       "996  [Mixed Feedback & Customer Experience, Inconsi...   \n",
       "997  [Prior App Preference & Feature Breakdown, Tru...   \n",
       "998  [Prior App Preference & Feature Breakdown, Tru...   \n",
       "999  [Prior App Preference & Feature Breakdown, Tru...   \n",
       "\n",
       "                                          review_clean  \n",
       "500  nothing when I need to install the Apk it say ...  \n",
       "501                        I can log in from any where  \n",
       "502                                                  😇  \n",
       "503                                         no proplem  \n",
       "504                                                👍👍👍  \n",
       "..                                                 ...  \n",
       "995           Always error occured. The worst app ever  \n",
       "996  ከዚህ ትልቅ ባንክ የማይጠበቅ ድንዝዝዝዝ ያለ App.... ዛግግግ ነው ያ...  \n",
       "997                                  Excellent service  \n",
       "998                                It's not convenient  \n",
       "999                                      meskelu Metku  \n",
       "\n",
       "[500 rows x 2 columns]"
      ]
     },
     "execution_count": 32,
     "metadata": {},
     "output_type": "execute_result"
    }
   ],
   "source": [
    "boa_df[[\"identified_theme\",\"review_clean\"]]"
   ]
  },
  {
   "cell_type": "markdown",
   "id": "3f5ce49c",
   "metadata": {},
   "source": [
    "# combine all the dataframes into one"
   ]
  },
  {
   "cell_type": "code",
   "execution_count": 42,
   "id": "0f8f7ad6",
   "metadata": {},
   "outputs": [
    {
     "name": "stdout",
     "output_type": "stream",
     "text": [
      "(1492, 11)\n"
     ]
    },
    {
     "data": {
      "text/plain": [
       "Index(['review_id', 'review', 'rating', 'date', 'bank', 'source',\n",
       "       'review_clean', 'sentiment_label', 'sentiment_score', 'keyword_ready',\n",
       "       'identified_theme'],\n",
       "      dtype='object')"
      ]
     },
     "execution_count": 42,
     "metadata": {},
     "output_type": "execute_result"
    }
   ],
   "source": [
    "# Combine all three bank DataFrames\n",
    "combined_df = pd.concat([dashen_df, cbe_df, boa_df], ignore_index=True)\n",
    "# check the shape of the combined dataframe\n",
    "print(combined_df.shape)\n",
    "# check the columsn to confirm the merge\n",
    "combined_df.columns"
   ]
  },
  {
   "cell_type": "code",
   "execution_count": 43,
   "id": "c77b9d5e",
   "metadata": {},
   "outputs": [
    {
     "name": "stdout",
     "output_type": "stream",
     "text": [
      "saved the combined dataframe succesfuly✅\n"
     ]
    }
   ],
   "source": [
    "# save the final combined dataframe\n",
    "combined_df.to_csv(\"../data/processed/reviews with sentiments and themes.csv\")\n",
    "print(\"saved the combined dataframe succesfuly✅\")"
   ]
  },
  {
   "cell_type": "markdown",
   "id": "6f1d1ef9",
   "metadata": {},
   "source": [
    "# Sentiment and Thematic Analysis — Full Notebook Summary\n",
    "\n",
    "This notebook provides a complete workflow for extracting sentiment and thematic insights from Google Play user reviews of three major Ethiopian banks: **Dashen Bank**, **Commercial Bank of Ethiopia (CBE)**, and **Bank of Abyssinia (BOA)**. The analysis uses modern NLP techniques and is designed for modularity and reproducibility.\n",
    "\n",
    "---\n",
    "\n",
    "## 1. Setup and Data Loading\n",
    "\n",
    "- **Imports**: Essential libraries for:\n",
    "  - Data: `pandas`, `numpy`\n",
    "  - NLP: `transformers`, `nltk`, `emoji`, `sklearn`\n",
    "  - Local utilities from `src` directory\n",
    "\n",
    "- **Data Loading**:\n",
    "  - Reads cleaned review data from `../data/processed/cleaned_reviews.csv`\n",
    "  - Uses a custom `load_data` function\n",
    "\n",
    "- **Preview**:\n",
    "  - Confirms key columns: `review_clean`, `bank`, `rating`\n",
    "\n",
    "---\n",
    "\n",
    "## 2. Sentiment Analysis\n",
    "\n",
    "### Model Initialization\n",
    "- Loads pretrained model:  \n",
    "  `distilbert-base-uncased-finetuned-sst-2-english` from HuggingFace Transformers\n",
    "\n",
    "### Inference and Annotation\n",
    "- Defines `get_sentiment_outputs` function\n",
    "- Applies model to reviews\n",
    "- Stores outputs in:\n",
    "  - `sentiment_label` (positive/negative)\n",
    "  - `sentiment_score` (confidence)\n",
    "\n",
    "### Summary Statistics\n",
    "- Aggregates sentiment scores:\n",
    "  - By **bank**\n",
    "  - By **rating**, focusing on 1-star reviews\n",
    "- Shows high confidence in negative predictions for low-rated reviews\n",
    "\n",
    "### Interpretation\n",
    "- Negative reviews show **strong confidence**, confirming model reliability\n",
    "- Tight clustering of confidence scores → Low ambiguity\n",
    "\n",
    "---\n",
    "\n",
    "## 3. Thematic Analysis Pipeline\n",
    "\n",
    "### Text Preprocessing\n",
    "- Cleaning steps:\n",
    "  - Lemmatization\n",
    "  - Stopword removal\n",
    "  - Emoji stripping\n",
    "  - Punctuation/digit normalization\n",
    "- Saves cleaned text in a `keyword_ready` column\n",
    "\n",
    "### TF-IDF Vectorization\n",
    "- Uses `TfidfVectorizer` to extract **trigrams and four-grams**\n",
    "- Filters overly frequent terms using `max_df=0.1`\n",
    "- Produces TF-IDF matrices and features per bank\n",
    "\n",
    "### Topic Modeling (LDA)\n",
    "- Configures `LatentDirichletAllocation`:\n",
    "  - `n_components=5` topics\n",
    "- Fits LDA model on each bank's TF-IDF matrix\n",
    "- Uses `extract_topic_keywords()` to get top words per topic\n",
    "\n",
    "### Manual Topic Labeling\n",
    "- Reviews top keywords and assigns **manual labels** to topics\n",
    "- Creates dictionaries:\n",
    "  - Maps topic indices → Human-readable themes\n",
    "  - Separate mapping for Dashen, CBE, BOA\n",
    "\n",
    "### Theme Mapping\n",
    "- For each review:\n",
    "  - Computes top 3 most likely themes from topic distribution\n",
    "- Stores mapped labels in `identified_theme` column\n",
    "\n",
    "### Saving Results\n",
    "- Topic keywords and labels saved to disk using `save_topics_with_labels`\n",
    "\n",
    "---\n",
    "\n",
    "## 4. Data Integration and Export\n",
    "\n",
    "- Merges processed DataFrames from all three banks into `combined_df`\n",
    "- Saves annotated DataFrame to:  \n",
    "  `../data/processed/reviews with sentiments and themes.csv`\n",
    "\n",
    "---\n",
    "\n",
    "## 5. Utility and Modularization\n",
    "\n",
    "- **Reusable Functions**: All major steps implemented as standalone functions\n",
    "- **Modules** (stored in `src/`):\n",
    "  - `utils`\n",
    "  - `keyword_text_processor`\n",
    "  - `sentiments`\n",
    "  - `keyword_and_topicmodeling`\n",
    "\n",
    "---\n",
    "\n",
    "## 6. Workflow Coverage\n",
    "\n",
    "- **Banks Analyzed**: Dashen, CBE, BOA\n",
    "- **Sentiment**: Model-based inference + confidence\n",
    "- **Themes**:\n",
    "  - N-gram extraction (TF-IDF)\n",
    "  - LDA topic modeling\n",
    "  - Manual label mapping\n",
    "  - Per-review theme assignment\n",
    "- **Output**: Final labeled dataset ready for downstream use\n",
    "\n",
    "---\n",
    "\n",
    "## Conclusion\n",
    "\n",
    "This notebook delivers a robust, end-to-end pipeline that extracts both sentiment and thematic insights from real user feedback. With clear modular structure, it supports:\n",
    "- Reusability and extension to other banks or datasets\n",
    "- Reproducibility through function-driven design\n",
    "- Export-ready annotated data for business or research analysis\n"
   ]
  },
  {
   "cell_type": "markdown",
   "id": "dbf687e6",
   "metadata": {},
   "source": []
  }
 ],
 "metadata": {
  "kernelspec": {
   "display_name": ".venv",
   "language": "python",
   "name": "python3"
  },
  "language_info": {
   "codemirror_mode": {
    "name": "ipython",
    "version": 3
   },
   "file_extension": ".py",
   "mimetype": "text/x-python",
   "name": "python",
   "nbconvert_exporter": "python",
   "pygments_lexer": "ipython3",
   "version": "3.10.10"
  }
 },
 "nbformat": 4,
 "nbformat_minor": 5
}
