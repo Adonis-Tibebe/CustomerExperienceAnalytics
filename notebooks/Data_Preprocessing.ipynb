{
 "cells": [
  {
   "cell_type": "markdown",
   "id": "809db00e",
   "metadata": {},
   "source": [
    "## Review Data Preprocessing Notebook\n",
    "\n",
    "This notebook initiates the review pipeline by loading raw Google Play Store data collected for three banks. The data includes user reviews, ratings, bank labels, and source metadata.  \n",
    "\n",
    "We'll begin by:\n",
    "- Verifying the structure and integrity of the dataset  \n",
    "- Exploring column types, value distributions, and potential anomalies  \n",
    "- Identifying data patterns that will inform our cleaning strategy  \n",
    "- Laying groundwork for downstream modeling (sentiment, thematic clustering)\n",
    "\n",
    "The raw CSV was saved from earlier scraping work, and will be progressively refined through preprocessing steps documented in this notebook."
   ]
  },
  {
   "cell_type": "code",
   "execution_count": 1,
   "id": "f1de4742",
   "metadata": {},
   "outputs": [
    {
     "data": {
      "text/html": [
       "<div>\n",
       "<style scoped>\n",
       "    .dataframe tbody tr th:only-of-type {\n",
       "        vertical-align: middle;\n",
       "    }\n",
       "\n",
       "    .dataframe tbody tr th {\n",
       "        vertical-align: top;\n",
       "    }\n",
       "\n",
       "    .dataframe thead th {\n",
       "        text-align: right;\n",
       "    }\n",
       "</style>\n",
       "<table border=\"1\" class=\"dataframe\">\n",
       "  <thead>\n",
       "    <tr style=\"text-align: right;\">\n",
       "      <th></th>\n",
       "      <th>review_id</th>\n",
       "      <th>review</th>\n",
       "      <th>rating</th>\n",
       "      <th>date</th>\n",
       "      <th>bank</th>\n",
       "      <th>source</th>\n",
       "    </tr>\n",
       "  </thead>\n",
       "  <tbody>\n",
       "    <tr>\n",
       "      <th>0</th>\n",
       "      <td>24b9381c-3cd8-431a-b3c9-bd156427585a</td>\n",
       "      <td>wow</td>\n",
       "      <td>5</td>\n",
       "      <td>2025-07-25</td>\n",
       "      <td>Commercial Bank of Ethiopia (CBE)</td>\n",
       "      <td>Google Play</td>\n",
       "    </tr>\n",
       "    <tr>\n",
       "      <th>1</th>\n",
       "      <td>6a7da8ad-486f-4132-8eb9-aee1e55f7322</td>\n",
       "      <td>excellent</td>\n",
       "      <td>5</td>\n",
       "      <td>2025-07-25</td>\n",
       "      <td>Commercial Bank of Ethiopia (CBE)</td>\n",
       "      <td>Google Play</td>\n",
       "    </tr>\n",
       "    <tr>\n",
       "      <th>2</th>\n",
       "      <td>d12f5fc4-9d9a-4f3d-b3e0-074f7b379f14</td>\n",
       "      <td>great</td>\n",
       "      <td>5</td>\n",
       "      <td>2025-07-24</td>\n",
       "      <td>Commercial Bank of Ethiopia (CBE)</td>\n",
       "      <td>Google Play</td>\n",
       "    </tr>\n",
       "    <tr>\n",
       "      <th>3</th>\n",
       "      <td>fba3dc77-c9b1-4cfc-8afe-317b302b007c</td>\n",
       "      <td>Great</td>\n",
       "      <td>5</td>\n",
       "      <td>2025-07-24</td>\n",
       "      <td>Commercial Bank of Ethiopia (CBE)</td>\n",
       "      <td>Google Play</td>\n",
       "    </tr>\n",
       "    <tr>\n",
       "      <th>4</th>\n",
       "      <td>bd502a94-e136-4cee-bb6b-e0c51cc5c245</td>\n",
       "      <td>there is many thing u have to fix.</td>\n",
       "      <td>1</td>\n",
       "      <td>2025-07-24</td>\n",
       "      <td>Commercial Bank of Ethiopia (CBE)</td>\n",
       "      <td>Google Play</td>\n",
       "    </tr>\n",
       "  </tbody>\n",
       "</table>\n",
       "</div>"
      ],
      "text/plain": [
       "                              review_id                              review  \\\n",
       "0  24b9381c-3cd8-431a-b3c9-bd156427585a                                 wow   \n",
       "1  6a7da8ad-486f-4132-8eb9-aee1e55f7322                           excellent   \n",
       "2  d12f5fc4-9d9a-4f3d-b3e0-074f7b379f14                               great   \n",
       "3  fba3dc77-c9b1-4cfc-8afe-317b302b007c                               Great   \n",
       "4  bd502a94-e136-4cee-bb6b-e0c51cc5c245  there is many thing u have to fix.   \n",
       "\n",
       "   rating        date                               bank       source  \n",
       "0       5  2025-07-25  Commercial Bank of Ethiopia (CBE)  Google Play  \n",
       "1       5  2025-07-25  Commercial Bank of Ethiopia (CBE)  Google Play  \n",
       "2       5  2025-07-24  Commercial Bank of Ethiopia (CBE)  Google Play  \n",
       "3       5  2025-07-24  Commercial Bank of Ethiopia (CBE)  Google Play  \n",
       "4       1  2025-07-24  Commercial Bank of Ethiopia (CBE)  Google Play  "
      ]
     },
     "execution_count": 1,
     "metadata": {},
     "output_type": "execute_result"
    }
   ],
   "source": [
    "import pandas as pd\n",
    "import numpy as np\n",
    "import os \n",
    "import sys\n",
    "\n",
    "sys.path.append(os.path.abspath(\"../\"))\n",
    "from src.utils.utils import load_data, clean_data, clean_review_text\n",
    "\n",
    "# Load raw review data\n",
    "raw_path = \"../data/raw/scraped_reviews/all_bank_reviews_20250726_131601.csv\"\n",
    "df = load_data(raw_path)\n",
    "\n",
    "# Quick preview\n",
    "df.head()"
   ]
  },
  {
   "cell_type": "code",
   "execution_count": 2,
   "id": "4be5c0d8",
   "metadata": {},
   "outputs": [
    {
     "name": "stdout",
     "output_type": "stream",
     "text": [
      "Shape: (1492, 6)\n",
      "Columns: ['review_id', 'review', 'rating', 'date', 'bank', 'source']\n",
      "<class 'pandas.core.frame.DataFrame'>\n",
      "RangeIndex: 1492 entries, 0 to 1491\n",
      "Data columns (total 6 columns):\n",
      " #   Column     Non-Null Count  Dtype \n",
      "---  ------     --------------  ----- \n",
      " 0   review_id  1492 non-null   object\n",
      " 1   review     1492 non-null   object\n",
      " 2   rating     1492 non-null   int64 \n",
      " 3   date       1492 non-null   object\n",
      " 4   bank       1492 non-null   object\n",
      " 5   source     1492 non-null   object\n",
      "dtypes: int64(1), object(5)\n",
      "memory usage: 70.1+ KB\n"
     ]
    }
   ],
   "source": [
    "# Display basic information about the DataFrame\n",
    "print(f\"Shape: {df.shape}\")\n",
    "print(f\"Columns: {list(df.columns)}\")\n",
    "df.info()"
   ]
  },
  {
   "cell_type": "code",
   "execution_count": 3,
   "id": "82ee2835",
   "metadata": {},
   "outputs": [
    {
     "name": "stdout",
     "output_type": "stream",
     "text": [
      "\n",
      "Ratings:\n",
      "rating\n",
      "1    313\n",
      "2     54\n",
      "3     77\n",
      "4     98\n",
      "5    950\n",
      "Name: count, dtype: int64\n",
      "\n",
      "Banks:\n",
      "bank\n",
      "Commercial Bank of Ethiopia (CBE)    500\n",
      "Bank of Abyssinia (BOA)              500\n",
      "Dashen Bank                          492\n",
      "Name: count, dtype: int64\n",
      "\n",
      "Sources:\n",
      "source\n",
      "Google Play    1492\n",
      "Name: count, dtype: int64\n",
      "\n",
      "Missing review entries: 0\n",
      "Empty review text entries: 0\n"
     ]
    }
   ],
   "source": [
    "# Rating distribution\n",
    "print(\"\\nRatings:\")\n",
    "print(df['rating'].value_counts().sort_index())\n",
    "\n",
    "# Bank label distribution\n",
    "print(\"\\nBanks:\")\n",
    "print(df['bank'].value_counts())\n",
    "\n",
    "# Source breakdown \n",
    "print(\"\\nSources:\")\n",
    "print(df['source'].value_counts())\n",
    "\n",
    "# Quick check for empty or null reviews\n",
    "missing_reviews = df['review'].isnull().sum()\n",
    "empty_reviews = (df['review'].str.strip() == '').sum()\n",
    "print(f\"\\nMissing review entries: {missing_reviews}\")\n",
    "print(f\"Empty review text entries: {empty_reviews}\")"
   ]
  },
  {
   "cell_type": "markdown",
   "id": "da589ce0",
   "metadata": {},
   "source": [
    "## Preprocessing Functions\n",
    "\n",
    "Two core cleaning utilities introduced:\n",
    "\n",
    "- `clean_data(df)`: Cleans raw dataframe by removing duplicates and null values, then parsing specified date columns  \n",
    "- `clean_review_text(text)`: Performs minimal cleaning suited for DistilBERT-based sentiment modeling (preserves emojis, punctuation, and contractions)\n",
    "\n",
    "These steps maintain signal quality for modeling tasks while establishing structural consistency."
   ]
  },
  {
   "cell_type": "code",
   "execution_count": 4,
   "id": "762b61b9",
   "metadata": {},
   "outputs": [],
   "source": [
    "# General data cleaning\n",
    "df = clean_data(df, date_columns=[\"date\"])"
   ]
  },
  {
   "cell_type": "code",
   "execution_count": 5,
   "id": "7ce89001",
   "metadata": {},
   "outputs": [
    {
     "name": "stdout",
     "output_type": "stream",
     "text": [
      "Datashape after cleaning:\n",
      "(1492, 6)\n",
      "\n",
      "Data types after cleaning:\n"
     ]
    },
    {
     "data": {
      "text/plain": [
       "review_id            object\n",
       "review               object\n",
       "rating                int64\n",
       "date         datetime64[ns]\n",
       "bank                 object\n",
       "source               object\n",
       "dtype: object"
      ]
     },
     "execution_count": 5,
     "metadata": {},
     "output_type": "execute_result"
    }
   ],
   "source": [
    "# check result\n",
    "print(\"Datashape after cleaning:\")\n",
    "print(df.shape)\n",
    "print(\"\\nData types after cleaning:\")\n",
    "df.dtypes"
   ]
  },
  {
   "cell_type": "code",
   "execution_count": 6,
   "id": "8f73ce65",
   "metadata": {},
   "outputs": [],
   "source": [
    "# Apply the light weight cleaning function to the review text\n",
    "df[\"review_clean\"] = df[\"review\"].apply(clean_review_text)"
   ]
  },
  {
   "cell_type": "code",
   "execution_count": 7,
   "id": "95d47a79",
   "metadata": {},
   "outputs": [
    {
     "name": "stdout",
     "output_type": "stream",
     "text": [
      "\n",
      "Sample cleaned reviews:\n",
      "0                                   wow\n",
      "1                             excellent\n",
      "2                                 great\n",
      "3                                 Great\n",
      "4    there is many thing u have to fix.\n",
      "Name: review_clean, dtype: object\n"
     ]
    }
   ],
   "source": [
    "# View cleaned review text\n",
    "print(\"\\nSample cleaned reviews:\")  \n",
    "print(df[\"review_clean\"].head(5))"
   ]
  },
  {
   "cell_type": "code",
   "execution_count": 8,
   "id": "793d903f",
   "metadata": {},
   "outputs": [
    {
     "name": "stdout",
     "output_type": "stream",
     "text": [
      "\n",
      "Cleaned data saved to ../data/processed/cleaned_reviews.csv successfully✅\n"
     ]
    }
   ],
   "source": [
    "# save cleaned data\n",
    "cleaned_path = \"../data/processed/cleaned_reviews.csv\"\n",
    "df.to_csv(cleaned_path, index=False)\n",
    "print(f\"\\nCleaned data saved to {cleaned_path} successfully✅\")"
   ]
  },
  {
   "cell_type": "markdown",
   "id": "bd8f7099",
   "metadata": {},
   "source": [
    "## ✅ Notebook Summary: Initial Review Preprocessing\n",
    "\n",
    "This notebook established the foundational steps for processing raw Google Play Store review data across three Ethiopian banks.\n",
    "\n",
    "### 🔹 What We Accomplished:\n",
    "- **Loaded raw review data** into a structured DataFrame\n",
    "- **Inspected** column types, value distributions, and completeness\n",
    "- Applied **`clean_data()`** to:\n",
    "  - Remove duplicates and nulls\n",
    "  - Parse datetime columns for temporal alignment\n",
    "- Implemented **`clean_review_text()`** for:\n",
    "  - Lightweight cleaning tailored for DistilBERT-based sentiment analysis\n",
    "  - Retained emojis, punctuation, and contractions for richer signal preservation\n",
    "\n",
    "### What’s Next:\n",
    "In upcoming notebooks, we will:\n",
    "- Integrate sentiment classification using fine-tuned DistilBERT\n",
    "- Expand text preprocessing for keyword extraction and thematic clustering\n",
    "- Explore visualization and performance metrics across banks\n",
    "\n",
    "This modular pipeline enables flexible adaptation across modeling goals and keeps preprocessing task-specific."
   ]
  }
 ],
 "metadata": {
  "kernelspec": {
   "display_name": ".venv",
   "language": "python",
   "name": "python3"
  },
  "language_info": {
   "codemirror_mode": {
    "name": "ipython",
    "version": 3
   },
   "file_extension": ".py",
   "mimetype": "text/x-python",
   "name": "python",
   "nbconvert_exporter": "python",
   "pygments_lexer": "ipython3",
   "version": "3.10.10"
  }
 },
 "nbformat": 4,
 "nbformat_minor": 5
}
